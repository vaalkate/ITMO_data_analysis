{
  "nbformat": 4,
  "nbformat_minor": 0,
  "metadata": {
    "colab": {
      "provenance": []
    },
    "kernelspec": {
      "name": "python3",
      "display_name": "Python 3"
    },
    "language_info": {
      "name": "python"
    }
  },
  "cells": [
    {
      "cell_type": "markdown",
      "source": [
        "# Лабораторная работа №3"
      ],
      "metadata": {
        "id": "LGwWSVEcwu3E"
      }
    },
    {
      "cell_type": "markdown",
      "source": [
        "Леденцы\n",
        "\n",
        "V1: освежить дыхание\n",
        "\n",
        "V2: чувствовать себя увереннее\n",
        "\n",
        "V3: освежить полость рта\n",
        "\n",
        "V4: избавиться от неприятного вкуса\n",
        "\n",
        "V5: заменитель сладкого\n",
        "\n",
        "V6: хочется сладкого\n",
        "\n",
        "V7: помогают сконцентрироваться\n",
        "\n",
        "V8: отвлечься и подумать\n",
        "\n",
        "V9: облегчить боль в горле\n",
        "\n",
        "V10: избавиться от заложенности носа\n",
        "\n",
        "V11: улучшить самочувствие"
      ],
      "metadata": {
        "id": "5NZ_AYHKw818"
      }
    },
    {
      "cell_type": "code",
      "execution_count": 1,
      "metadata": {
        "id": "8Ynjim-oH3MJ"
      },
      "outputs": [],
      "source": [
        "import pandas as pd\n",
        "import numpy as np\n",
        "import matplotlib.pyplot as plt\n",
        "from sklearn.preprocessing import StandardScaler\n",
        "from sklearn.cluster import DBSCAN\n",
        "from scipy.cluster.hierarchy import dendrogram, linkage, fcluster\n",
        "import seaborn as sns"
      ]
    },
    {
      "cell_type": "markdown",
      "source": [
        "# Импорт данных"
      ],
      "metadata": {
        "id": "iC0TCUZAw7fg"
      }
    },
    {
      "cell_type": "code",
      "source": [
        "df = pd.read_csv('Леденцы.dat', sep=';')\n",
        "\n",
        "print(\"Размер датасета:\", df.shape)\n",
        "\n",
        "print(\"\\nПервые 5 строк данных:\")\n",
        "print(df.head())\n",
        "\n",
        "print(\"\\nОписательная статистика:\")\n",
        "print(df.describe())"
      ],
      "metadata": {
        "colab": {
          "base_uri": "https://localhost:8080/"
        },
        "id": "r-bMHI3TIKeL",
        "outputId": "30715e17-720b-46be-899f-9e0f1a2d6a99"
      },
      "execution_count": 2,
      "outputs": [
        {
          "output_type": "stream",
          "name": "stdout",
          "text": [
            "Размер датасета: (338, 11)\n",
            "\n",
            "Первые 5 строк данных:\n",
            "   V1  V2  V3  V4  V5  V6  V7  V8  V9  V10  V11\n",
            "0   4   5   5   5   3   3   3   3   3    3    3\n",
            "1   5   4   5   5   3   3   3   3   3    3    3\n",
            "2   5   5   4   5   3   3   3   3   3    3    3\n",
            "3   5   4   5   5   3   3   3   3   3    3    3\n",
            "4   4   5   5   5   3   3   3   3   3    3    3\n",
            "\n",
            "Описательная статистика:\n",
            "               V1          V2          V3          V4          V5          V6  \\\n",
            "count  338.000000  338.000000  338.000000  338.000000  338.000000  338.000000   \n",
            "mean     3.544379    3.526627    3.517751    3.411243    3.207101    3.204142   \n",
            "std      0.955748    0.956410    0.990150    0.992311    0.867314    0.869725   \n",
            "min      2.000000    2.000000    2.000000    2.000000    2.000000    2.000000   \n",
            "25%      3.000000    3.000000    3.000000    3.000000    3.000000    3.000000   \n",
            "50%      3.000000    3.000000    3.000000    3.000000    3.000000    3.000000   \n",
            "75%      5.000000    5.000000    5.000000    4.000000    3.000000    3.000000   \n",
            "max      5.000000    5.000000    5.000000    5.000000    5.000000    5.000000   \n",
            "\n",
            "               V7          V8          V9         V10         V11  \n",
            "count  338.000000  338.000000  338.000000  338.000000  338.000000  \n",
            "mean     3.254438    3.289941    3.603550    3.550296    3.565089  \n",
            "std      0.844107    0.821784    0.969682    0.927082    0.942042  \n",
            "min      2.000000    2.000000    2.000000    2.000000    2.000000  \n",
            "25%      3.000000    3.000000    3.000000    3.000000    3.000000  \n",
            "50%      3.000000    3.000000    3.000000    3.000000    3.000000  \n",
            "75%      3.000000    3.000000    5.000000    5.000000    5.000000  \n",
            "max      5.000000    5.000000    5.000000    5.000000    5.000000  \n"
          ]
        }
      ]
    },
    {
      "cell_type": "markdown",
      "source": [
        "Общая информация о данных\n",
        "\n",
        "* Количество характеристик: 11 переменных (V1-V11)\n",
        "* Шкала оценок: от 2 до 5 баллов\n",
        "* Медиана по большинству переменных = 3, что указывает на преобладание нейтральных оценок"
      ],
      "metadata": {
        "id": "8sXygRUuw_m0"
      }
    },
    {
      "cell_type": "markdown",
      "source": [
        "# Стандартизируем данные"
      ],
      "metadata": {
        "id": "uwMUvQ00xDE5"
      }
    },
    {
      "cell_type": "markdown",
      "source": [
        "Чтобы переменные с разной дисперсией вносили равный вклад в кластеризацию проведена кластеризация, иначе алгоритм учитывал бы в первую очередь переменные с большим разбросом значений (как например, V4 имеет std=0.99, V7 имеет std=0.84)"
      ],
      "metadata": {
        "id": "Xnwa-YdrxIhg"
      }
    },
    {
      "cell_type": "code",
      "source": [
        "scaler = StandardScaler()\n",
        "data_scaled = scaler.fit_transform(df)"
      ],
      "metadata": {
        "id": "fW28C2nfIRvD"
      },
      "execution_count": 3,
      "outputs": []
    },
    {
      "cell_type": "markdown",
      "source": [
        "# Кластеризация"
      ],
      "metadata": {
        "id": "69a9g4vd8Qrg"
      }
    },
    {
      "cell_type": "code",
      "source": [
        "# стандартные параметры\n",
        "dbscan = DBSCAN(eps=0.5, metric='euclidean', min_samples=5)\n",
        "# обучаем модель\n",
        "dbscan.fit(data_scaled)\n",
        "# смотрим на результаты кластеризации\n",
        "dbscan.labels_\n",
        ""
      ],
      "metadata": {
        "colab": {
          "base_uri": "https://localhost:8080/"
        },
        "id": "BtcTCGM092zW",
        "outputId": "c0564315-0cb4-46b8-e0e7-cd2c44fcbc62"
      },
      "execution_count": 6,
      "outputs": [
        {
          "output_type": "execute_result",
          "data": {
            "text/plain": [
              "array([ 0,  1, -1,  1,  0,  1, -1,  1,  2, -1, -1, -1,  3, -1, -1,  3,  3,\n",
              "        3,  3,  3,  3,  3, -1,  3,  3,  3,  3, -1, -1, -1,  2,  2,  0,  2,\n",
              "        2,  2,  2,  2,  2,  2,  2,  2,  4,  4,  4,  4,  4,  4,  4,  4, -1,\n",
              "        4, -1,  2,  2,  2,  2,  2,  2,  2, -1, -1, -1,  2,  2, -1, -1,  2,\n",
              "        2,  2,  2, -1,  2,  2,  2,  2, -1,  2,  2,  2, -1,  2,  2,  2,  2,\n",
              "        1,  2,  2,  2,  2,  2,  2,  2,  2,  2,  0, -1, -1,  0,  0,  0, -1,\n",
              "       -1,  0,  0,  0,  2,  2,  2,  2, -1,  5, -1,  5,  5,  5,  6,  6,  5,\n",
              "        5,  6,  5,  7, -1,  6,  7,  7,  5,  5,  5,  5,  5,  6,  5,  5,  5,\n",
              "        5,  5,  6, -1,  5,  6,  5,  7,  6,  5, -1,  5,  6,  7,  5,  5,  5,\n",
              "        5,  6,  5,  5,  5,  5,  5,  5,  6,  5,  5,  5,  5, -1,  5,  7,  5,\n",
              "       -1,  5, -1,  6,  5,  5,  7, -1, -1,  8,  8,  8, -1, -1, -1, -1,  5,\n",
              "        5, -1,  8, -1, -1, -1,  8,  8, -1, -1,  5,  5,  5,  5,  5,  7,  5,\n",
              "       -1, -1,  6,  6,  5,  7, -1, -1, -1, -1, -1,  7, -1,  6,  9, 10, 11,\n",
              "       10, 11,  9,  9,  9,  9,  9, 10,  9,  9,  9,  9,  9,  9,  9, 10,  9,\n",
              "        9, 10,  9,  9,  9, 10, 10,  9,  9, 11, 10,  9,  9,  9, 11,  9,  9,\n",
              "        9,  9,  9,  9,  9,  9,  9,  9, 11, 12, 12, 12, 12, 12, 12, 12, 12,\n",
              "       12, 10,  9,  9, 10,  9,  9, 13, 13, 13, 13, 13, 13, 13, 13, 13, 13,\n",
              "       13, 13, -1, 13, 13, 13, 13, 13, 13, 13, 13, 13, 13, 13, 13, 13, 13,\n",
              "       13, 13, -1, 13, -1, 13, -1, 13, 13, 13, 13, 13, 13, 13, 13, 13, -1,\n",
              "       13, -1, 13, 13, 13, -1, 13, 13, 13, 13, 13, 13, 13, 13, 13])"
            ]
          },
          "metadata": {},
          "execution_count": 6
        }
      ]
    },
    {
      "cell_type": "code",
      "source": [
        "# Анализируем количество выбросов (-1)\n",
        "outliers_count = counts[unique == -1][0] if -1 in unique else 0\n",
        "print(f\"Выбросов: {outliers_count} ({outliers_count/len(df)*100:.1f}%)\")"
      ],
      "metadata": {
        "colab": {
          "base_uri": "https://localhost:8080/"
        },
        "id": "3p5tfabf-HBI",
        "outputId": "d64f36a8-6d6b-4f32-ba10-ebc0546dff59"
      },
      "execution_count": 22,
      "outputs": [
        {
          "output_type": "stream",
          "name": "stdout",
          "text": [
            "Выбросов: 6 (1.8%)\n"
          ]
        }
      ]
    },
    {
      "cell_type": "code",
      "source": [
        "# Вторая попытка (увеличиваем eps)\n",
        "dbscan = DBSCAN(eps=2.0, metric='euclidean', min_samples=5)\n",
        "dbscan.fit(data_scaled)\n",
        "# смотрим на результаты кластеризации\n",
        "dbscan.labels_"
      ],
      "metadata": {
        "colab": {
          "base_uri": "https://localhost:8080/"
        },
        "id": "0V04RTLK-PFq",
        "outputId": "33802a56-3ad7-498d-8cf1-3a893a46da08"
      },
      "execution_count": 23,
      "outputs": [
        {
          "output_type": "execute_result",
          "data": {
            "text/plain": [
              "array([ 0,  0,  0,  0,  0,  0,  0,  0,  0,  0,  0,  0,  0,  0,  0,  0,  0,\n",
              "        0,  0,  0,  0,  0,  0,  0,  0,  0,  0,  0,  0,  0,  0,  0,  0,  0,\n",
              "        0,  0,  0,  0,  0,  0,  0,  0,  0,  0,  0,  0,  0,  0,  0,  0,  0,\n",
              "        0,  0,  0,  0,  0,  0,  0,  0,  0,  0,  0,  0,  0,  0,  0,  0,  0,\n",
              "        0,  0,  0,  0,  0,  0,  0,  0,  0,  0,  0,  0,  0,  0,  0,  0,  0,\n",
              "        0,  0,  0,  0,  0,  0,  0,  0,  0,  0,  0,  0,  0,  0,  0,  0,  0,\n",
              "        0,  0,  0,  0,  0,  0,  0,  0,  1,  1, -1,  1,  1,  1,  1,  1,  1,\n",
              "        1,  1,  1,  1,  1,  1,  1,  1,  1,  1,  1,  1,  1,  1,  1,  1,  1,\n",
              "        1,  1,  1, -1,  1,  1,  1,  1,  1,  1,  1,  1,  1,  1,  1,  1,  1,\n",
              "        1,  1,  1,  1,  1,  1,  1,  1,  1,  1,  1,  1,  1,  1,  1,  1,  1,\n",
              "        1,  1,  1,  1,  1,  1,  1, -1,  1,  1,  1,  1,  1,  1,  1,  1,  1,\n",
              "        1, -1,  1,  1,  1,  1,  1,  1,  1,  1,  1,  1,  1,  1,  1,  1,  1,\n",
              "        1,  1,  1,  1,  1,  1,  1,  1,  1,  1,  1,  1,  1,  1,  2,  2,  2,\n",
              "        2,  2,  2,  2,  2,  2,  2,  2,  2,  2,  2,  2,  2,  2,  2,  2,  2,\n",
              "        2,  2,  2,  2,  2,  2,  2,  2,  2,  2,  2,  2,  2,  2,  2,  2,  2,\n",
              "        2,  2,  2,  2,  2,  2,  2,  2,  2,  2,  2,  2,  2,  2,  2,  2,  2,\n",
              "        2,  2,  2,  2,  2,  2,  2,  3,  3,  3,  3,  3,  3,  3,  3,  3,  3,\n",
              "        3,  3,  3,  3,  3,  3,  3,  3,  3,  3,  3,  3,  3,  3,  3,  3,  3,\n",
              "        3,  3, -1,  3,  3,  3,  3,  3,  3,  3,  3,  3,  3,  3,  3,  3,  3,\n",
              "        3, -1,  3,  3,  3,  3,  3,  3,  3,  3,  3,  3,  3,  3,  3])"
            ]
          },
          "metadata": {},
          "execution_count": 23
        }
      ]
    },
    {
      "cell_type": "code",
      "source": [
        "unique, counts = np.unique(dbscan.labels_, return_counts=True)\n",
        "results = np.asarray((unique, counts)).T\n",
        "print(\"Результаты кластеризации:\")\n",
        "print(results)"
      ],
      "metadata": {
        "colab": {
          "base_uri": "https://localhost:8080/"
        },
        "id": "1t5K5aeT-UkX",
        "outputId": "b6fea229-f47b-4284-94b8-8e46d2c518dc"
      },
      "execution_count": 21,
      "outputs": [
        {
          "output_type": "stream",
          "name": "stdout",
          "text": [
            "Результаты кластеризации:\n",
            "[[ -1   6]\n",
            " [  0 110]\n",
            " [  1 104]\n",
            " [  2  61]\n",
            " [  3  57]]\n"
          ]
        }
      ]
    },
    {
      "cell_type": "code",
      "source": [
        "# Добавляем столбец cluster к таблице данных и выводим средние значения в каждом кластере\n",
        "df['cluster'] = dbscan.labels_\n",
        "df.groupby('cluster').mean()"
      ],
      "metadata": {
        "id": "GTR0r9lBIgIe",
        "colab": {
          "base_uri": "https://localhost:8080/",
          "height": 238
        },
        "outputId": "0e6c53f3-43cb-4b31-84b4-02dc2e1667dd"
      },
      "execution_count": 26,
      "outputs": [
        {
          "output_type": "execute_result",
          "data": {
            "text/plain": [
              "               V1        V2        V3        V4        V5        V6        V7  \\\n",
              "cluster                                                                         \n",
              "-1       2.333333  3.333333  3.333333  3.333333  2.000000  2.333333  3.000000   \n",
              " 0       4.845455  4.800000  4.836364  4.681818  3.036364  3.036364  3.000000   \n",
              " 1       2.855769  2.788462  2.721154  2.567308  2.634615  2.605769  2.778846   \n",
              " 2       3.000000  3.000000  3.000000  3.000000  4.852459  4.852459  3.000000   \n",
              " 3       3.000000  3.000000  3.000000  2.947368  2.947368  2.947368  4.912281   \n",
              "\n",
              "               V8        V9       V10       V11  \n",
              "cluster                                          \n",
              "-1       3.666667  4.333333  4.166667  4.166667  \n",
              " 0       2.990909  3.072727  3.045455  3.045455  \n",
              " 1       2.913462  4.951923  4.817308  4.865385  \n",
              " 2       2.918033  2.754098  2.754098  2.754098  \n",
              " 3       4.912281  3.000000  3.000000  3.000000  "
            ],
            "text/html": [
              "\n",
              "  <div id=\"df-a4c0aa00-13c8-484f-baba-e143c2f6a46b\" class=\"colab-df-container\">\n",
              "    <div>\n",
              "<style scoped>\n",
              "    .dataframe tbody tr th:only-of-type {\n",
              "        vertical-align: middle;\n",
              "    }\n",
              "\n",
              "    .dataframe tbody tr th {\n",
              "        vertical-align: top;\n",
              "    }\n",
              "\n",
              "    .dataframe thead th {\n",
              "        text-align: right;\n",
              "    }\n",
              "</style>\n",
              "<table border=\"1\" class=\"dataframe\">\n",
              "  <thead>\n",
              "    <tr style=\"text-align: right;\">\n",
              "      <th></th>\n",
              "      <th>V1</th>\n",
              "      <th>V2</th>\n",
              "      <th>V3</th>\n",
              "      <th>V4</th>\n",
              "      <th>V5</th>\n",
              "      <th>V6</th>\n",
              "      <th>V7</th>\n",
              "      <th>V8</th>\n",
              "      <th>V9</th>\n",
              "      <th>V10</th>\n",
              "      <th>V11</th>\n",
              "    </tr>\n",
              "    <tr>\n",
              "      <th>cluster</th>\n",
              "      <th></th>\n",
              "      <th></th>\n",
              "      <th></th>\n",
              "      <th></th>\n",
              "      <th></th>\n",
              "      <th></th>\n",
              "      <th></th>\n",
              "      <th></th>\n",
              "      <th></th>\n",
              "      <th></th>\n",
              "      <th></th>\n",
              "    </tr>\n",
              "  </thead>\n",
              "  <tbody>\n",
              "    <tr>\n",
              "      <th>-1</th>\n",
              "      <td>2.333333</td>\n",
              "      <td>3.333333</td>\n",
              "      <td>3.333333</td>\n",
              "      <td>3.333333</td>\n",
              "      <td>2.000000</td>\n",
              "      <td>2.333333</td>\n",
              "      <td>3.000000</td>\n",
              "      <td>3.666667</td>\n",
              "      <td>4.333333</td>\n",
              "      <td>4.166667</td>\n",
              "      <td>4.166667</td>\n",
              "    </tr>\n",
              "    <tr>\n",
              "      <th>0</th>\n",
              "      <td>4.845455</td>\n",
              "      <td>4.800000</td>\n",
              "      <td>4.836364</td>\n",
              "      <td>4.681818</td>\n",
              "      <td>3.036364</td>\n",
              "      <td>3.036364</td>\n",
              "      <td>3.000000</td>\n",
              "      <td>2.990909</td>\n",
              "      <td>3.072727</td>\n",
              "      <td>3.045455</td>\n",
              "      <td>3.045455</td>\n",
              "    </tr>\n",
              "    <tr>\n",
              "      <th>1</th>\n",
              "      <td>2.855769</td>\n",
              "      <td>2.788462</td>\n",
              "      <td>2.721154</td>\n",
              "      <td>2.567308</td>\n",
              "      <td>2.634615</td>\n",
              "      <td>2.605769</td>\n",
              "      <td>2.778846</td>\n",
              "      <td>2.913462</td>\n",
              "      <td>4.951923</td>\n",
              "      <td>4.817308</td>\n",
              "      <td>4.865385</td>\n",
              "    </tr>\n",
              "    <tr>\n",
              "      <th>2</th>\n",
              "      <td>3.000000</td>\n",
              "      <td>3.000000</td>\n",
              "      <td>3.000000</td>\n",
              "      <td>3.000000</td>\n",
              "      <td>4.852459</td>\n",
              "      <td>4.852459</td>\n",
              "      <td>3.000000</td>\n",
              "      <td>2.918033</td>\n",
              "      <td>2.754098</td>\n",
              "      <td>2.754098</td>\n",
              "      <td>2.754098</td>\n",
              "    </tr>\n",
              "    <tr>\n",
              "      <th>3</th>\n",
              "      <td>3.000000</td>\n",
              "      <td>3.000000</td>\n",
              "      <td>3.000000</td>\n",
              "      <td>2.947368</td>\n",
              "      <td>2.947368</td>\n",
              "      <td>2.947368</td>\n",
              "      <td>4.912281</td>\n",
              "      <td>4.912281</td>\n",
              "      <td>3.000000</td>\n",
              "      <td>3.000000</td>\n",
              "      <td>3.000000</td>\n",
              "    </tr>\n",
              "  </tbody>\n",
              "</table>\n",
              "</div>\n",
              "    <div class=\"colab-df-buttons\">\n",
              "\n",
              "  <div class=\"colab-df-container\">\n",
              "    <button class=\"colab-df-convert\" onclick=\"convertToInteractive('df-a4c0aa00-13c8-484f-baba-e143c2f6a46b')\"\n",
              "            title=\"Convert this dataframe to an interactive table.\"\n",
              "            style=\"display:none;\">\n",
              "\n",
              "  <svg xmlns=\"http://www.w3.org/2000/svg\" height=\"24px\" viewBox=\"0 -960 960 960\">\n",
              "    <path d=\"M120-120v-720h720v720H120Zm60-500h600v-160H180v160Zm220 220h160v-160H400v160Zm0 220h160v-160H400v160ZM180-400h160v-160H180v160Zm440 0h160v-160H620v160ZM180-180h160v-160H180v160Zm440 0h160v-160H620v160Z\"/>\n",
              "  </svg>\n",
              "    </button>\n",
              "\n",
              "  <style>\n",
              "    .colab-df-container {\n",
              "      display:flex;\n",
              "      gap: 12px;\n",
              "    }\n",
              "\n",
              "    .colab-df-convert {\n",
              "      background-color: #E8F0FE;\n",
              "      border: none;\n",
              "      border-radius: 50%;\n",
              "      cursor: pointer;\n",
              "      display: none;\n",
              "      fill: #1967D2;\n",
              "      height: 32px;\n",
              "      padding: 0 0 0 0;\n",
              "      width: 32px;\n",
              "    }\n",
              "\n",
              "    .colab-df-convert:hover {\n",
              "      background-color: #E2EBFA;\n",
              "      box-shadow: 0px 1px 2px rgba(60, 64, 67, 0.3), 0px 1px 3px 1px rgba(60, 64, 67, 0.15);\n",
              "      fill: #174EA6;\n",
              "    }\n",
              "\n",
              "    .colab-df-buttons div {\n",
              "      margin-bottom: 4px;\n",
              "    }\n",
              "\n",
              "    [theme=dark] .colab-df-convert {\n",
              "      background-color: #3B4455;\n",
              "      fill: #D2E3FC;\n",
              "    }\n",
              "\n",
              "    [theme=dark] .colab-df-convert:hover {\n",
              "      background-color: #434B5C;\n",
              "      box-shadow: 0px 1px 3px 1px rgba(0, 0, 0, 0.15);\n",
              "      filter: drop-shadow(0px 1px 2px rgba(0, 0, 0, 0.3));\n",
              "      fill: #FFFFFF;\n",
              "    }\n",
              "  </style>\n",
              "\n",
              "    <script>\n",
              "      const buttonEl =\n",
              "        document.querySelector('#df-a4c0aa00-13c8-484f-baba-e143c2f6a46b button.colab-df-convert');\n",
              "      buttonEl.style.display =\n",
              "        google.colab.kernel.accessAllowed ? 'block' : 'none';\n",
              "\n",
              "      async function convertToInteractive(key) {\n",
              "        const element = document.querySelector('#df-a4c0aa00-13c8-484f-baba-e143c2f6a46b');\n",
              "        const dataTable =\n",
              "          await google.colab.kernel.invokeFunction('convertToInteractive',\n",
              "                                                    [key], {});\n",
              "        if (!dataTable) return;\n",
              "\n",
              "        const docLinkHtml = 'Like what you see? Visit the ' +\n",
              "          '<a target=\"_blank\" href=https://colab.research.google.com/notebooks/data_table.ipynb>data table notebook</a>'\n",
              "          + ' to learn more about interactive tables.';\n",
              "        element.innerHTML = '';\n",
              "        dataTable['output_type'] = 'display_data';\n",
              "        await google.colab.output.renderOutput(dataTable, element);\n",
              "        const docLink = document.createElement('div');\n",
              "        docLink.innerHTML = docLinkHtml;\n",
              "        element.appendChild(docLink);\n",
              "      }\n",
              "    </script>\n",
              "  </div>\n",
              "\n",
              "\n",
              "    <div id=\"df-45ded1a8-30e6-4174-94c9-a49b54bad382\">\n",
              "      <button class=\"colab-df-quickchart\" onclick=\"quickchart('df-45ded1a8-30e6-4174-94c9-a49b54bad382')\"\n",
              "                title=\"Suggest charts\"\n",
              "                style=\"display:none;\">\n",
              "\n",
              "<svg xmlns=\"http://www.w3.org/2000/svg\" height=\"24px\"viewBox=\"0 0 24 24\"\n",
              "     width=\"24px\">\n",
              "    <g>\n",
              "        <path d=\"M19 3H5c-1.1 0-2 .9-2 2v14c0 1.1.9 2 2 2h14c1.1 0 2-.9 2-2V5c0-1.1-.9-2-2-2zM9 17H7v-7h2v7zm4 0h-2V7h2v10zm4 0h-2v-4h2v4z\"/>\n",
              "    </g>\n",
              "</svg>\n",
              "      </button>\n",
              "\n",
              "<style>\n",
              "  .colab-df-quickchart {\n",
              "      --bg-color: #E8F0FE;\n",
              "      --fill-color: #1967D2;\n",
              "      --hover-bg-color: #E2EBFA;\n",
              "      --hover-fill-color: #174EA6;\n",
              "      --disabled-fill-color: #AAA;\n",
              "      --disabled-bg-color: #DDD;\n",
              "  }\n",
              "\n",
              "  [theme=dark] .colab-df-quickchart {\n",
              "      --bg-color: #3B4455;\n",
              "      --fill-color: #D2E3FC;\n",
              "      --hover-bg-color: #434B5C;\n",
              "      --hover-fill-color: #FFFFFF;\n",
              "      --disabled-bg-color: #3B4455;\n",
              "      --disabled-fill-color: #666;\n",
              "  }\n",
              "\n",
              "  .colab-df-quickchart {\n",
              "    background-color: var(--bg-color);\n",
              "    border: none;\n",
              "    border-radius: 50%;\n",
              "    cursor: pointer;\n",
              "    display: none;\n",
              "    fill: var(--fill-color);\n",
              "    height: 32px;\n",
              "    padding: 0;\n",
              "    width: 32px;\n",
              "  }\n",
              "\n",
              "  .colab-df-quickchart:hover {\n",
              "    background-color: var(--hover-bg-color);\n",
              "    box-shadow: 0 1px 2px rgba(60, 64, 67, 0.3), 0 1px 3px 1px rgba(60, 64, 67, 0.15);\n",
              "    fill: var(--button-hover-fill-color);\n",
              "  }\n",
              "\n",
              "  .colab-df-quickchart-complete:disabled,\n",
              "  .colab-df-quickchart-complete:disabled:hover {\n",
              "    background-color: var(--disabled-bg-color);\n",
              "    fill: var(--disabled-fill-color);\n",
              "    box-shadow: none;\n",
              "  }\n",
              "\n",
              "  .colab-df-spinner {\n",
              "    border: 2px solid var(--fill-color);\n",
              "    border-color: transparent;\n",
              "    border-bottom-color: var(--fill-color);\n",
              "    animation:\n",
              "      spin 1s steps(1) infinite;\n",
              "  }\n",
              "\n",
              "  @keyframes spin {\n",
              "    0% {\n",
              "      border-color: transparent;\n",
              "      border-bottom-color: var(--fill-color);\n",
              "      border-left-color: var(--fill-color);\n",
              "    }\n",
              "    20% {\n",
              "      border-color: transparent;\n",
              "      border-left-color: var(--fill-color);\n",
              "      border-top-color: var(--fill-color);\n",
              "    }\n",
              "    30% {\n",
              "      border-color: transparent;\n",
              "      border-left-color: var(--fill-color);\n",
              "      border-top-color: var(--fill-color);\n",
              "      border-right-color: var(--fill-color);\n",
              "    }\n",
              "    40% {\n",
              "      border-color: transparent;\n",
              "      border-right-color: var(--fill-color);\n",
              "      border-top-color: var(--fill-color);\n",
              "    }\n",
              "    60% {\n",
              "      border-color: transparent;\n",
              "      border-right-color: var(--fill-color);\n",
              "    }\n",
              "    80% {\n",
              "      border-color: transparent;\n",
              "      border-right-color: var(--fill-color);\n",
              "      border-bottom-color: var(--fill-color);\n",
              "    }\n",
              "    90% {\n",
              "      border-color: transparent;\n",
              "      border-bottom-color: var(--fill-color);\n",
              "    }\n",
              "  }\n",
              "</style>\n",
              "\n",
              "      <script>\n",
              "        async function quickchart(key) {\n",
              "          const quickchartButtonEl =\n",
              "            document.querySelector('#' + key + ' button');\n",
              "          quickchartButtonEl.disabled = true;  // To prevent multiple clicks.\n",
              "          quickchartButtonEl.classList.add('colab-df-spinner');\n",
              "          try {\n",
              "            const charts = await google.colab.kernel.invokeFunction(\n",
              "                'suggestCharts', [key], {});\n",
              "          } catch (error) {\n",
              "            console.error('Error during call to suggestCharts:', error);\n",
              "          }\n",
              "          quickchartButtonEl.classList.remove('colab-df-spinner');\n",
              "          quickchartButtonEl.classList.add('colab-df-quickchart-complete');\n",
              "        }\n",
              "        (() => {\n",
              "          let quickchartButtonEl =\n",
              "            document.querySelector('#df-45ded1a8-30e6-4174-94c9-a49b54bad382 button');\n",
              "          quickchartButtonEl.style.display =\n",
              "            google.colab.kernel.accessAllowed ? 'block' : 'none';\n",
              "        })();\n",
              "      </script>\n",
              "    </div>\n",
              "    </div>\n",
              "  </div>\n"
            ],
            "application/vnd.google.colaboratory.intrinsic+json": {
              "type": "dataframe",
              "summary": "{\n  \"name\": \"df\",\n  \"rows\": 5,\n  \"fields\": [\n    {\n      \"column\": \"cluster\",\n      \"properties\": {\n        \"dtype\": \"number\",\n        \"std\": 1,\n        \"min\": -1,\n        \"max\": 3,\n        \"num_unique_values\": 5,\n        \"samples\": [\n          0,\n          3,\n          1\n        ],\n        \"semantic_type\": \"\",\n        \"description\": \"\"\n      }\n    },\n    {\n      \"column\": \"V1\",\n      \"properties\": {\n        \"dtype\": \"number\",\n        \"std\": 0.9561495379893716,\n        \"min\": 2.3333333333333335,\n        \"max\": 4.845454545454546,\n        \"num_unique_values\": 4,\n        \"samples\": [\n          4.845454545454546,\n          3.0,\n          2.3333333333333335\n        ],\n        \"semantic_type\": \"\",\n        \"description\": \"\"\n      }\n    },\n    {\n      \"column\": \"V2\",\n      \"properties\": {\n        \"dtype\": \"number\",\n        \"std\": 0.8150460916368099,\n        \"min\": 2.7884615384615383,\n        \"max\": 4.8,\n        \"num_unique_values\": 4,\n        \"samples\": [\n          4.8,\n          3.0,\n          3.3333333333333335\n        ],\n        \"semantic_type\": \"\",\n        \"description\": \"\"\n      }\n    },\n    {\n      \"column\": \"V3\",\n      \"properties\": {\n        \"dtype\": \"number\",\n        \"std\": 0.8435096816314323,\n        \"min\": 2.7211538461538463,\n        \"max\": 4.836363636363636,\n        \"num_unique_values\": 4,\n        \"samples\": [\n          4.836363636363636,\n          3.0,\n          3.3333333333333335\n        ],\n        \"semantic_type\": \"\",\n        \"description\": \"\"\n      }\n    },\n    {\n      \"column\": \"V4\",\n      \"properties\": {\n        \"dtype\": \"number\",\n        \"std\": 0.8157116079614598,\n        \"min\": 2.5673076923076925,\n        \"max\": 4.681818181818182,\n        \"num_unique_values\": 5,\n        \"samples\": [\n          4.681818181818182,\n          2.9473684210526314,\n          2.5673076923076925\n        ],\n        \"semantic_type\": \"\",\n        \"description\": \"\"\n      }\n    },\n    {\n      \"column\": \"V5\",\n      \"properties\": {\n        \"dtype\": \"number\",\n        \"std\": 1.0635872058122748,\n        \"min\": 2.0,\n        \"max\": 4.852459016393443,\n        \"num_unique_values\": 5,\n        \"samples\": [\n          3.036363636363636,\n          2.9473684210526314,\n          2.6346153846153846\n        ],\n        \"semantic_type\": \"\",\n        \"description\": \"\"\n      }\n    },\n    {\n      \"column\": \"V6\",\n      \"properties\": {\n        \"dtype\": \"number\",\n        \"std\": 0.9893612969265473,\n        \"min\": 2.3333333333333335,\n        \"max\": 4.852459016393443,\n        \"num_unique_values\": 5,\n        \"samples\": [\n          3.036363636363636,\n          2.9473684210526314,\n          2.605769230769231\n        ],\n        \"semantic_type\": \"\",\n        \"description\": \"\"\n      }\n    },\n    {\n      \"column\": \"V7\",\n      \"properties\": {\n        \"dtype\": \"number\",\n        \"std\": 0.8851192712883689,\n        \"min\": 2.7788461538461537,\n        \"max\": 4.912280701754386,\n        \"num_unique_values\": 3,\n        \"samples\": [\n          3.0,\n          2.7788461538461537,\n          4.912280701754386\n        ],\n        \"semantic_type\": \"\",\n        \"description\": \"\"\n      }\n    },\n    {\n      \"column\": \"V8\",\n      \"properties\": {\n        \"dtype\": \"number\",\n        \"std\": 0.8605601348122535,\n        \"min\": 2.9134615384615383,\n        \"max\": 4.912280701754386,\n        \"num_unique_values\": 5,\n        \"samples\": [\n          2.9909090909090907,\n          4.912280701754386,\n          2.9134615384615383\n        ],\n        \"semantic_type\": \"\",\n        \"description\": \"\"\n      }\n    },\n    {\n      \"column\": \"V9\",\n      \"properties\": {\n        \"dtype\": \"number\",\n        \"std\": 0.9639148586836637,\n        \"min\": 2.7540983606557377,\n        \"max\": 4.951923076923077,\n        \"num_unique_values\": 5,\n        \"samples\": [\n          3.0727272727272728,\n          3.0,\n          4.951923076923077\n        ],\n        \"semantic_type\": \"\",\n        \"description\": \"\"\n      }\n    },\n    {\n      \"column\": \"V10\",\n      \"properties\": {\n        \"dtype\": \"number\",\n        \"std\": 0.8911575736749057,\n        \"min\": 2.7540983606557377,\n        \"max\": 4.8173076923076925,\n        \"num_unique_values\": 5,\n        \"samples\": [\n          3.0454545454545454,\n          3.0,\n          4.8173076923076925\n        ],\n        \"semantic_type\": \"\",\n        \"description\": \"\"\n      }\n    },\n    {\n      \"column\": \"V11\",\n      \"properties\": {\n        \"dtype\": \"number\",\n        \"std\": 0.9082549408999342,\n        \"min\": 2.7540983606557377,\n        \"max\": 4.865384615384615,\n        \"num_unique_values\": 5,\n        \"samples\": [\n          3.0454545454545454,\n          3.0,\n          4.865384615384615\n        ],\n        \"semantic_type\": \"\",\n        \"description\": \"\"\n      }\n    }\n  ]\n}"
            }
          },
          "metadata": {},
          "execution_count": 26
        }
      ]
    },
    {
      "cell_type": "markdown",
      "source": [
        "# Интерпретация результатов кластеризации"
      ],
      "metadata": {
        "id": "zVDe_s1vAZXu"
      }
    },
    {
      "cell_type": "markdown",
      "source": [
        "В результате кластерного анализа методом DBSCAN выделены четыре основных кластера потребителей леденцов и одна группа выбросов.\n",
        "\n",
        "**Кластер -1 — выбросы.** Отсутствие четких паттернов поведения, возможно, ситуативные или неопределившиеся потребители.\n",
        "\n",
        "**Кластер 0 — «Леденцы для свежести и уверенности» (V1-V4).**\n",
        "Основная мотивация — освежение дыхания, ощущение уверенности, чистота полости рта, устранение неприятного вкуса.  \n",
        "Средние оценки по этим признакам высоки.  \n",
        "Вывод: Это «социально-ориентированные потребители», для которых леденцы являются инструментом поддержания комфорта в общении.\n",
        "\n",
        "**Кластер 1 — «Леденцы для облегчения состояния» (V9-V11).**\n",
        "Сюда входят респонденты, которые чаще всего употребляют леденцы для облегчения боли в горле, заложенности носа и улучшения самочувствия.  \n",
        "Средние оценки по этим переменным значительно выше, чем по остальным.  \n",
        "Вывод: Это «функциональные потребители», для которых леденцы выполняют скорее лечебную или поддерживающую функцию, чем развлекательную.\n",
        "\n",
        "**Кластер 2 — «Леденцы как сладкое удовольствие» (V5-V6).**\n",
        "Доминируют показатели «заменитель других кондитерских изделий» и «когда хочется чего-нибудь сладкого».  \n",
        "Вывод: Эти потребители относятся к категории людей, для которых леденцы — просто приятное лакомство, источник сладости, без функциональной цели.\n",
        "\n",
        "**Кластер 3 — «Леденцы для концентрации и отдыха» (V7-V8).**\n",
        "Основные мотивации: помощь в концентрации, небольшой отдых и отвлечение.  \n",
        "Вывод: Это «когнитивно-ориентированные потребители», которые используют леденцы как способ расслабления или повышения продуктивности.\n"
      ],
      "metadata": {
        "id": "NnsngrnHApRg"
      }
    },
    {
      "cell_type": "markdown",
      "source": [
        "# Сравнительный анализ методов кластеризации"
      ],
      "metadata": {
        "id": "FbTWMYFyC1M9"
      }
    },
    {
      "cell_type": "markdown",
      "source": [
        "В рамках выполнения лабораторных работ №1-3 проводилось исследование одного и того же датасета \"Леденцы\" с применением трех различных методов кластеризации: иерархического метода, метода k-средних и метода DBSCAN.\n",
        "\n",
        "В результате анализа было установлено, что иерархический метод и метод k-средних демонстрируют согласованные результаты, формируя 4 четких кластера потребителей. Метод DBSCAN также выявил 4 основных кластера, но дополнительно идентифицировал пятую группу, помеченную как -1, которая представляет собой выбросы - наблюдения, не вошедшие в основные кластеры.\n",
        "\n",
        "Сравнительный анализ показал, что наиболее наглядным и информативным для данного набора данных оказался **иерархический метод кластеризации**. Ключевое преимущество этого метода заключается в возможности визуализации структуры данных через дендрограмму, что позволяет наглядно проследить взаимосвязи между объектами и обосновать выбор количества кластеров на основе анализа \"локтя\" графика.\n",
        "\n",
        "**Метод K-Means** продемонстрировал сравнимую с иерархическим методом эффективность в выделении кластеров, однако обладает меньшей визуальной наглядностью. Основное ограничение этого метода заключается в том, что расстояния между кластерами и процесс их формирования не являются очевидными из результатов работы алгоритма. Тем не менее, метод остается простым и удобным инструментом для практического применения.\n",
        "\n",
        "**Метод DBSCAN** проявил себя как ценный инструмент для обнаружения аномалий и выбросов в данных, что является его неоспоримым преимуществом перед другими методами. Однако его практическое применение сопряжено с необходимостью тщательного подбора параметров, в частности радиуса окрестности (eps) и минимального количества объектов (min_samples). Этот процесс требует множественных итераций и экспериментальной проверки, что существенно увеличивает трудоемкость использования метода."
      ],
      "metadata": {
        "id": "IxH_Rb-wB5EQ"
      }
    }
  ]
}